{
 "cells": [
  {
   "cell_type": "markdown",
   "metadata": {},
   "source": [
    "<p><b>Question #1</b>: \n",
    "<ol>\n",
    "    <li>Download the heart.csv dataset from the Canvas and use <b>read_csv( )</b> to read it.</li>\n",
    "    <li>Creat a new column named <b>'age_cat'</b> in the DataFrame to present individuals' age with 4 categories. Here is the list of categories:\n",
    "        <ul>\n",
    "            <li>25-40</li>\n",
    "            <li>40-55</li>\n",
    "            <li>55-70</li>\n",
    "            <li>70+</li>\n",
    "        </ul>\n",
    "    </li>\n",
    "    <li>Creat a pie chart to show the percentage of individuals in each age category.\n",
    "        <ul>\n",
    "            <li>Use the <u>Explode</u> feature of pie chart in matplotlib to separate the age category of 40-55.</li>\n",
    "        </ul>\n",
    "    </li>\n",
    "    <li>Creat a histogram with with 20 bins and white edgecolor to visualize the distribution of <b>\"chol\"</b> feature. Then use the annotation function to point to the bin with the highest value.</li>\n",
    "    <li>Use <u>logistic regression</u> to create a predictive model\n",
    "        <ul>\n",
    "            <li>Use 70% of data for tarining and consider 30% of data for testing. (Use <b style=\"color:red\">random_state=0</b>)</li>\n",
    "            <li>Use all features (13 features in the orignal dataset, you don't need to use age_cat) to creat your predictive model</li>\n",
    "            <li><b>traget</b> is your dependent variable. It shows whether the subject suffers form a heart disease or not.</li>\n",
    "        </ul>\n",
    "    </li>\n",
    "    <li>Use similar structure as above to create a <u>naive bayes</u> predictive model.</li>\n",
    "    <li>Use in-sample data (train data) and out-of-sample data (test data) to check the accuracy of your naive bayes model:\n",
    "        <ul>\n",
    "            <li>What is the general expectation? should we expect to get higher accuray on in-sample data or out-of-sample data</li>\n",
    "            <li>What is the result in your case?</li>\n",
    "        </ul>\n",
    "    </li>\n",
    "    <li>Find precision, recall and F1 scores for both logistic regression and naive bayes models using out-of-sample data (test data) and explain which one works better than the other?</li>\n",
    "</ol>\n",
    "</p>"
   ]
  },
  {
   "cell_type": "code",
   "execution_count": 1,
   "metadata": {},
   "outputs": [],
   "source": [
    "#import the required libraries\n",
    "import pandas as pd\n",
    "import numpy as np"
   ]
  },
  {
   "cell_type": "code",
   "execution_count": 2,
   "metadata": {},
   "outputs": [
    {
     "data": {
      "text/html": [
       "<div>\n",
       "<style scoped>\n",
       "    .dataframe tbody tr th:only-of-type {\n",
       "        vertical-align: middle;\n",
       "    }\n",
       "\n",
       "    .dataframe tbody tr th {\n",
       "        vertical-align: top;\n",
       "    }\n",
       "\n",
       "    .dataframe thead th {\n",
       "        text-align: right;\n",
       "    }\n",
       "</style>\n",
       "<table border=\"1\" class=\"dataframe\">\n",
       "  <thead>\n",
       "    <tr style=\"text-align: right;\">\n",
       "      <th></th>\n",
       "      <th>age</th>\n",
       "      <th>sex</th>\n",
       "      <th>cp</th>\n",
       "      <th>trestbps</th>\n",
       "      <th>chol</th>\n",
       "      <th>fbs</th>\n",
       "      <th>restecg</th>\n",
       "      <th>thalach</th>\n",
       "      <th>exang</th>\n",
       "      <th>oldpeak</th>\n",
       "      <th>slope</th>\n",
       "      <th>ca</th>\n",
       "      <th>thal</th>\n",
       "      <th>target</th>\n",
       "    </tr>\n",
       "  </thead>\n",
       "  <tbody>\n",
       "    <tr>\n",
       "      <th>0</th>\n",
       "      <td>63</td>\n",
       "      <td>1</td>\n",
       "      <td>3</td>\n",
       "      <td>145</td>\n",
       "      <td>233</td>\n",
       "      <td>1</td>\n",
       "      <td>0</td>\n",
       "      <td>150</td>\n",
       "      <td>0</td>\n",
       "      <td>2.3</td>\n",
       "      <td>0</td>\n",
       "      <td>0</td>\n",
       "      <td>1</td>\n",
       "      <td>1</td>\n",
       "    </tr>\n",
       "    <tr>\n",
       "      <th>1</th>\n",
       "      <td>37</td>\n",
       "      <td>1</td>\n",
       "      <td>2</td>\n",
       "      <td>130</td>\n",
       "      <td>250</td>\n",
       "      <td>0</td>\n",
       "      <td>1</td>\n",
       "      <td>187</td>\n",
       "      <td>0</td>\n",
       "      <td>3.5</td>\n",
       "      <td>0</td>\n",
       "      <td>0</td>\n",
       "      <td>2</td>\n",
       "      <td>1</td>\n",
       "    </tr>\n",
       "    <tr>\n",
       "      <th>2</th>\n",
       "      <td>41</td>\n",
       "      <td>0</td>\n",
       "      <td>1</td>\n",
       "      <td>130</td>\n",
       "      <td>204</td>\n",
       "      <td>0</td>\n",
       "      <td>0</td>\n",
       "      <td>172</td>\n",
       "      <td>0</td>\n",
       "      <td>1.4</td>\n",
       "      <td>2</td>\n",
       "      <td>0</td>\n",
       "      <td>2</td>\n",
       "      <td>1</td>\n",
       "    </tr>\n",
       "    <tr>\n",
       "      <th>3</th>\n",
       "      <td>56</td>\n",
       "      <td>1</td>\n",
       "      <td>1</td>\n",
       "      <td>120</td>\n",
       "      <td>236</td>\n",
       "      <td>0</td>\n",
       "      <td>1</td>\n",
       "      <td>178</td>\n",
       "      <td>0</td>\n",
       "      <td>0.8</td>\n",
       "      <td>2</td>\n",
       "      <td>0</td>\n",
       "      <td>2</td>\n",
       "      <td>1</td>\n",
       "    </tr>\n",
       "    <tr>\n",
       "      <th>4</th>\n",
       "      <td>57</td>\n",
       "      <td>0</td>\n",
       "      <td>0</td>\n",
       "      <td>120</td>\n",
       "      <td>354</td>\n",
       "      <td>0</td>\n",
       "      <td>1</td>\n",
       "      <td>163</td>\n",
       "      <td>1</td>\n",
       "      <td>0.6</td>\n",
       "      <td>2</td>\n",
       "      <td>0</td>\n",
       "      <td>2</td>\n",
       "      <td>1</td>\n",
       "    </tr>\n",
       "  </tbody>\n",
       "</table>\n",
       "</div>"
      ],
      "text/plain": [
       "   age  sex  cp  trestbps  chol  fbs  restecg  thalach  exang  oldpeak  slope  \\\n",
       "0   63    1   3       145   233    1        0      150      0      2.3      0   \n",
       "1   37    1   2       130   250    0        1      187      0      3.5      0   \n",
       "2   41    0   1       130   204    0        0      172      0      1.4      2   \n",
       "3   56    1   1       120   236    0        1      178      0      0.8      2   \n",
       "4   57    0   0       120   354    0        1      163      1      0.6      2   \n",
       "\n",
       "   ca  thal  target  \n",
       "0   0     1       1  \n",
       "1   0     2       1  \n",
       "2   0     2       1  \n",
       "3   0     2       1  \n",
       "4   0     2       1  "
      ]
     },
     "execution_count": 2,
     "metadata": {},
     "output_type": "execute_result"
    }
   ],
   "source": [
    "# Write your answer here (part1)\n",
    "data = pd.read_csv(\"J:/Data Science/Assignment-2/heart.csv\")  #read heart.csv \n",
    "data.head()                   "
   ]
  },
  {
   "cell_type": "code",
   "execution_count": 3,
   "metadata": {},
   "outputs": [
    {
     "data": {
      "text/html": [
       "<div>\n",
       "<style scoped>\n",
       "    .dataframe tbody tr th:only-of-type {\n",
       "        vertical-align: middle;\n",
       "    }\n",
       "\n",
       "    .dataframe tbody tr th {\n",
       "        vertical-align: top;\n",
       "    }\n",
       "\n",
       "    .dataframe thead th {\n",
       "        text-align: right;\n",
       "    }\n",
       "</style>\n",
       "<table border=\"1\" class=\"dataframe\">\n",
       "  <thead>\n",
       "    <tr style=\"text-align: right;\">\n",
       "      <th></th>\n",
       "      <th>age</th>\n",
       "      <th>sex</th>\n",
       "      <th>cp</th>\n",
       "      <th>trestbps</th>\n",
       "      <th>chol</th>\n",
       "      <th>fbs</th>\n",
       "      <th>restecg</th>\n",
       "      <th>thalach</th>\n",
       "      <th>exang</th>\n",
       "      <th>oldpeak</th>\n",
       "      <th>slope</th>\n",
       "      <th>ca</th>\n",
       "      <th>thal</th>\n",
       "      <th>target</th>\n",
       "      <th>age_cat</th>\n",
       "    </tr>\n",
       "  </thead>\n",
       "  <tbody>\n",
       "    <tr>\n",
       "      <th>0</th>\n",
       "      <td>63</td>\n",
       "      <td>1</td>\n",
       "      <td>3</td>\n",
       "      <td>145</td>\n",
       "      <td>233</td>\n",
       "      <td>1</td>\n",
       "      <td>0</td>\n",
       "      <td>150</td>\n",
       "      <td>0</td>\n",
       "      <td>2.3</td>\n",
       "      <td>0</td>\n",
       "      <td>0</td>\n",
       "      <td>1</td>\n",
       "      <td>1</td>\n",
       "      <td>55-70</td>\n",
       "    </tr>\n",
       "    <tr>\n",
       "      <th>1</th>\n",
       "      <td>37</td>\n",
       "      <td>1</td>\n",
       "      <td>2</td>\n",
       "      <td>130</td>\n",
       "      <td>250</td>\n",
       "      <td>0</td>\n",
       "      <td>1</td>\n",
       "      <td>187</td>\n",
       "      <td>0</td>\n",
       "      <td>3.5</td>\n",
       "      <td>0</td>\n",
       "      <td>0</td>\n",
       "      <td>2</td>\n",
       "      <td>1</td>\n",
       "      <td>25-40</td>\n",
       "    </tr>\n",
       "    <tr>\n",
       "      <th>2</th>\n",
       "      <td>41</td>\n",
       "      <td>0</td>\n",
       "      <td>1</td>\n",
       "      <td>130</td>\n",
       "      <td>204</td>\n",
       "      <td>0</td>\n",
       "      <td>0</td>\n",
       "      <td>172</td>\n",
       "      <td>0</td>\n",
       "      <td>1.4</td>\n",
       "      <td>2</td>\n",
       "      <td>0</td>\n",
       "      <td>2</td>\n",
       "      <td>1</td>\n",
       "      <td>40-55</td>\n",
       "    </tr>\n",
       "    <tr>\n",
       "      <th>3</th>\n",
       "      <td>56</td>\n",
       "      <td>1</td>\n",
       "      <td>1</td>\n",
       "      <td>120</td>\n",
       "      <td>236</td>\n",
       "      <td>0</td>\n",
       "      <td>1</td>\n",
       "      <td>178</td>\n",
       "      <td>0</td>\n",
       "      <td>0.8</td>\n",
       "      <td>2</td>\n",
       "      <td>0</td>\n",
       "      <td>2</td>\n",
       "      <td>1</td>\n",
       "      <td>55-70</td>\n",
       "    </tr>\n",
       "    <tr>\n",
       "      <th>4</th>\n",
       "      <td>57</td>\n",
       "      <td>0</td>\n",
       "      <td>0</td>\n",
       "      <td>120</td>\n",
       "      <td>354</td>\n",
       "      <td>0</td>\n",
       "      <td>1</td>\n",
       "      <td>163</td>\n",
       "      <td>1</td>\n",
       "      <td>0.6</td>\n",
       "      <td>2</td>\n",
       "      <td>0</td>\n",
       "      <td>2</td>\n",
       "      <td>1</td>\n",
       "      <td>55-70</td>\n",
       "    </tr>\n",
       "  </tbody>\n",
       "</table>\n",
       "</div>"
      ],
      "text/plain": [
       "   age  sex  cp  trestbps  chol  fbs  restecg  thalach  exang  oldpeak  slope  \\\n",
       "0   63    1   3       145   233    1        0      150      0      2.3      0   \n",
       "1   37    1   2       130   250    0        1      187      0      3.5      0   \n",
       "2   41    0   1       130   204    0        0      172      0      1.4      2   \n",
       "3   56    1   1       120   236    0        1      178      0      0.8      2   \n",
       "4   57    0   0       120   354    0        1      163      1      0.6      2   \n",
       "\n",
       "   ca  thal  target age_cat  \n",
       "0   0     1       1   55-70  \n",
       "1   0     2       1   25-40  \n",
       "2   0     2       1   40-55  \n",
       "3   0     2       1   55-70  \n",
       "4   0     2       1   55-70  "
      ]
     },
     "execution_count": 3,
     "metadata": {},
     "output_type": "execute_result"
    }
   ],
   "source": [
    "# Write your answer here (part2)\n",
    "#insert a new colunm with the rages of age\n",
    "data[\"age_cat\"] = pd.cut(data.age, (25, 40, 55, 70, 100), labels = ('25-40', '40-55', '55-70', '70+'))\n",
    "data.head()"
   ]
  },
  {
   "cell_type": "code",
   "execution_count": 4,
   "metadata": {},
   "outputs": [],
   "source": [
    "#import matplotlin.pyplot\n",
    "from matplotlib import pyplot as plt"
   ]
  },
  {
   "cell_type": "code",
   "execution_count": 6,
   "metadata": {},
   "outputs": [
    {
     "data": {
      "image/png": "[encoded data removed]",
      "text/plain": [
       "<Figure size 432x288 with 1 Axes>"
      ]
     },
     "metadata": {},
     "output_type": "display_data"
    }
   ],
   "source": [
    "# Write your answer here (part3)\n",
    "#pie plot with the rages of age\n",
    "values = data.age_cat.value_counts()\n",
    "plt.pie(values, labels=('55-70', '40-55', '25-40', '70+'), explode = (0, 0.1, 0, 0), autopct = '%.2f%%', radius=2)\n",
    "plt.show()"
   ]
  },
  {
   "cell_type": "code",
   "execution_count": 7,
   "metadata": {},
   "outputs": [
    {
     "data": {
      "image/png": "[encoded data removed]",
      "text/plain": [
       "<Figure size 432x288 with 1 Axes>"
      ]
     },
     "metadata": {
      "needs_background": "light"
     },
     "output_type": "display_data"
    }
   ],
   "source": [
    "# Write your answer here (part4)\n",
    "#histogram with 20 bins\n",
    "plt.hist(data.chol, bins=20, color='blue', edgecolor='white')\n",
    "plt.title(\"heart\")\n",
    "plt.xlabel(\"Chol\")\n",
    "plt.ylabel(\"Count\")\n",
    "plt.annotate('highest value', xy = (225, 55), xytext=(300, 50),arrowprops = dict(facecolor='black', shrink = 0.05))\n",
    "plt.show()"
   ]
  },
  {
   "cell_type": "code",
   "execution_count": 10,
   "metadata": {},
   "outputs": [],
   "source": [
    "#import sklearn for machine learning models\n",
    "from sklearn.linear_model import LogisticRegression\n",
    "from sklearn.model_selection import train_test_split\n",
    "from sklearn.metrics import accuracy_score"
   ]
  },
  {
   "cell_type": "code",
   "execution_count": 12,
   "metadata": {},
   "outputs": [
    {
     "name": "stdout",
     "output_type": "stream",
     "text": [
      "Model Coef [[ 0.01329036 -1.59325734  0.74295007 -0.01175775 -0.00508972 -0.54221284\n",
      "   0.18565455  0.02411308 -0.78693811 -0.70454873  0.22181673 -0.79466031\n",
      "  -0.76142423]]\n",
      "Model Intercept [1.96921483]\n"
     ]
    },
    {
     "data": {
      "text/plain": [
       "81.31868131868131"
      ]
     },
     "execution_count": 12,
     "metadata": {},
     "output_type": "execute_result"
    }
   ],
   "source": [
    "# Write your answer here (part5)\n",
    "#read independent and dependent variables\n",
    "X = data.iloc[:,:13] \n",
    "y = data.iloc[:,13]\n",
    "model = LogisticRegression(solver= 'newton-cg')\n",
    "#divide data into 70% for training and 30% for testing\n",
    "X_train, X_test, y_train,y_test = train_test_split(X, y, test_size=0.3, random_state=0)\n",
    "#fit the model using logistic regression\n",
    "model.fit(X_train, y_train)\n",
    "print(\"Model Coef\", model.coef_)\n",
    "print(\"Model Intercept\", model.intercept_)\n",
    "y_test_hat = model.predict(X_test)\n",
    "accuracy_score(y_test,y_test_hat) * 100"
   ]
  },
  {
   "cell_type": "code",
   "execution_count": 16,
   "metadata": {},
   "outputs": [],
   "source": [
    "# Write your answer here (part6)\n",
    "from sklearn.naive_bayes import GaussianNB\n",
    "#import Gaussian model and fit the data for classification\n",
    "gnb = GaussianNB()\n",
    "gnb.fit(X_train, y_train)\n",
    "y_pre_test = gnb.predict(X_test)\n",
    "y_pre_train = gnb.predict(X_train)"
   ]
  },
  {
   "cell_type": "code",
   "execution_count": 17,
   "metadata": {},
   "outputs": [
    {
     "name": "stdout",
     "output_type": "stream",
     "text": [
      "Accuracy of test data 80.21978021978022\n",
      "Accuracy of train data 84.43396226415094\n"
     ]
    }
   ],
   "source": [
    "# Write your answer here (part7)\n",
    "print('Accuracy of test data', accuracy_score(y_test,y_pre_test) * 100)\n",
    "print('Accuracy of train data', accuracy_score(y_train,y_pre_train) * 100)"
   ]
  },
  {
   "cell_type": "markdown",
   "metadata": {},
   "source": [
    "<p> Accuracy of test data is 80.219% <br>\n",
    "Accuracy should not be too high or too low which lands up to overfit or underfit issues respectively. So, it is beter taking help of precision and recall to judge a machine learning model<p>"
   ]
  },
  {
   "cell_type": "code",
   "execution_count": 19,
   "metadata": {},
   "outputs": [
    {
     "name": "stdout",
     "output_type": "stream",
     "text": [
      "         **********Logistic Regression***********           \n",
      "              precision    recall  f1-score   support\n",
      "\n",
      "           0       0.86      0.73      0.79        44\n",
      "           1       0.78      0.89      0.83        47\n",
      "\n",
      "    accuracy                           0.81        91\n",
      "   macro avg       0.82      0.81      0.81        91\n",
      "weighted avg       0.82      0.81      0.81        91\n",
      "\n",
      "         **********Naive Bayes***********                   \n",
      "              precision    recall  f1-score   support\n",
      "\n",
      "           0       0.84      0.73      0.78        44\n",
      "           1       0.77      0.87      0.82        47\n",
      "\n",
      "    accuracy                           0.80        91\n",
      "   macro avg       0.81      0.80      0.80        91\n",
      "weighted avg       0.81      0.80      0.80        91\n",
      "\n"
     ]
    }
   ],
   "source": [
    "# Write your answer here (part8)\n",
    "from sklearn.metrics import classification_report, confusion_matrix\n",
    "print('         **********Logistic Regression***********           ')\n",
    "print(classification_report(y_test,y_test_hat))\n",
    "print('         **********Naive Bayes***********                   ')\n",
    "print(classification_report(y_test,y_pre))"
   ]
  },
  {
   "cell_type": "markdown",
   "metadata": {},
   "source": [
    "<p>As the data is regarding the heart issues, the number of False Negatives should be low in order to save the patient. So, Recall for the target = 1 should be high. The Logistic Regression model provides high Recall and high precision values which make the model to be selected for classifying this dataset.<p>"
   ]
  },
  {
   "cell_type": "markdown",
   "metadata": {},
   "source": [
    "<p><b>Question #2</b>: \n",
    "<ol>\n",
    "    <li>Download the Graduate_Admissions.csv dataset from the Canvas and use <b>read_csv( )</b> to read it.</li>\n",
    "    <li>Remove the Serial_No column from the dataset.</li>\n",
    "    <li>Create a scatter plot with <u>SOP</u> and <u>CGPA</u> features and color that using the <u>Research</u> feature\n",
    "    <ul>\n",
    "        <li>Put appropriate title, axis labels and legend for your visualization.</li>\n",
    "    </ul>\n",
    "    </li> \n",
    "    <li>Use linear regression to creat a predictive model.\n",
    "    <ul>\n",
    "        <li>Use 70% of data for tarining and consider 30% of data for testing. (Use <b style=\"color:red\">random_state=0</b>)</li>\n",
    "        <li>Use all features (7 features) to create you predictive model.</li>\n",
    "        <li><b>Chance _of_Admit</b> is your dependent variable.</li> \n",
    "    </ul>\n",
    "    </li>\n",
    "    <li> Compute $R^2$ for both in-sample(train data) and out-of-sample (test data) data. Which one is higher? What was your expectation?</li> \n",
    "    <li> Compute MSE for both in-sample (train data) and out-of-sample (test data) data. Which one is higher? What was your expectation?</li> \n",
    "    <li> Use PCA to reduce the number of features (7 independent features) into <u>two</u> components.</li>\n",
    "    <li> Create a new linear regression predictive model using two PCA components. \n",
    "    <ul>\n",
    "        <li>Use 70% of data for tarining and consider 30% of data for testing. (Use <b style=\"color:red\">random_state=0</b>)</li>\n",
    "        <li>Use two PCA components as independent variables to create you predictive model.</li>\n",
    "        <li><b>Chance _of_Admit</b> is your dependent variable</li> \n",
    "    </ul>\n",
    "    </li>\n",
    "    <li> Compute MSE and $R^2$ for the out-of-sample data using second predictive model.</li> \n",
    "</ol>\n",
    "\n",
    "<b>Data Source:</b> Mohan S Acharya, Asfia Armaan, Aneeta S Antony : A Comparison of Regression Models for Prediction of Graduate Admissions, IEEE International Conference on Computational Intelligence in Data Science 2019\n",
    "</p>"
   ]
  },
  {
   "cell_type": "code",
   "execution_count": 21,
   "metadata": {},
   "outputs": [
    {
     "data": {
      "text/html": [
       "<div>\n",
       "<style scoped>\n",
       "    .dataframe tbody tr th:only-of-type {\n",
       "        vertical-align: middle;\n",
       "    }\n",
       "\n",
       "    .dataframe tbody tr th {\n",
       "        vertical-align: top;\n",
       "    }\n",
       "\n",
       "    .dataframe thead th {\n",
       "        text-align: right;\n",
       "    }\n",
       "</style>\n",
       "<table border=\"1\" class=\"dataframe\">\n",
       "  <thead>\n",
       "    <tr style=\"text-align: right;\">\n",
       "      <th></th>\n",
       "      <th>Serial_No</th>\n",
       "      <th>GRE_Score</th>\n",
       "      <th>TOEFL_Score</th>\n",
       "      <th>University_Rating</th>\n",
       "      <th>SOP</th>\n",
       "      <th>LOR</th>\n",
       "      <th>CGPA</th>\n",
       "      <th>Research</th>\n",
       "      <th>Chance _of_Admit</th>\n",
       "    </tr>\n",
       "  </thead>\n",
       "  <tbody>\n",
       "    <tr>\n",
       "      <th>0</th>\n",
       "      <td>1</td>\n",
       "      <td>337</td>\n",
       "      <td>118</td>\n",
       "      <td>4</td>\n",
       "      <td>4.5</td>\n",
       "      <td>4.5</td>\n",
       "      <td>9.65</td>\n",
       "      <td>1</td>\n",
       "      <td>0.92</td>\n",
       "    </tr>\n",
       "    <tr>\n",
       "      <th>1</th>\n",
       "      <td>2</td>\n",
       "      <td>324</td>\n",
       "      <td>107</td>\n",
       "      <td>4</td>\n",
       "      <td>4.0</td>\n",
       "      <td>4.5</td>\n",
       "      <td>8.87</td>\n",
       "      <td>1</td>\n",
       "      <td>0.76</td>\n",
       "    </tr>\n",
       "    <tr>\n",
       "      <th>2</th>\n",
       "      <td>3</td>\n",
       "      <td>316</td>\n",
       "      <td>104</td>\n",
       "      <td>3</td>\n",
       "      <td>3.0</td>\n",
       "      <td>3.5</td>\n",
       "      <td>8.00</td>\n",
       "      <td>1</td>\n",
       "      <td>0.72</td>\n",
       "    </tr>\n",
       "    <tr>\n",
       "      <th>3</th>\n",
       "      <td>4</td>\n",
       "      <td>322</td>\n",
       "      <td>110</td>\n",
       "      <td>3</td>\n",
       "      <td>3.5</td>\n",
       "      <td>2.5</td>\n",
       "      <td>8.67</td>\n",
       "      <td>1</td>\n",
       "      <td>0.80</td>\n",
       "    </tr>\n",
       "    <tr>\n",
       "      <th>4</th>\n",
       "      <td>5</td>\n",
       "      <td>314</td>\n",
       "      <td>103</td>\n",
       "      <td>2</td>\n",
       "      <td>2.0</td>\n",
       "      <td>3.0</td>\n",
       "      <td>8.21</td>\n",
       "      <td>0</td>\n",
       "      <td>0.65</td>\n",
       "    </tr>\n",
       "  </tbody>\n",
       "</table>\n",
       "</div>"
      ],
      "text/plain": [
       "   Serial_No  GRE_Score  TOEFL_Score  University_Rating  SOP  LOR   CGPA  \\\n",
       "0          1        337          118                  4  4.5   4.5  9.65   \n",
       "1          2        324          107                  4  4.0   4.5  8.87   \n",
       "2          3        316          104                  3  3.0   3.5  8.00   \n",
       "3          4        322          110                  3  3.5   2.5  8.67   \n",
       "4          5        314          103                  2  2.0   3.0  8.21   \n",
       "\n",
       "   Research  Chance _of_Admit   \n",
       "0         1               0.92  \n",
       "1         1               0.76  \n",
       "2         1               0.72  \n",
       "3         1               0.80  \n",
       "4         0               0.65  "
      ]
     },
     "execution_count": 21,
     "metadata": {},
     "output_type": "execute_result"
    }
   ],
   "source": [
    "# Write your answer here (part1)\n",
    "#read graduate adimmisions data\n",
    "data2 = pd.read_csv(\"J:/Data Science/Assignment-2/Graduate_Admissions.csv\")\n",
    "data2.head()"
   ]
  },
  {
   "cell_type": "code",
   "execution_count": 22,
   "metadata": {},
   "outputs": [
    {
     "data": {
      "text/html": [
       "<div>\n",
       "<style scoped>\n",
       "    .dataframe tbody tr th:only-of-type {\n",
       "        vertical-align: middle;\n",
       "    }\n",
       "\n",
       "    .dataframe tbody tr th {\n",
       "        vertical-align: top;\n",
       "    }\n",
       "\n",
       "    .dataframe thead th {\n",
       "        text-align: right;\n",
       "    }\n",
       "</style>\n",
       "<table border=\"1\" class=\"dataframe\">\n",
       "  <thead>\n",
       "    <tr style=\"text-align: right;\">\n",
       "      <th></th>\n",
       "      <th>GRE_Score</th>\n",
       "      <th>TOEFL_Score</th>\n",
       "      <th>University_Rating</th>\n",
       "      <th>SOP</th>\n",
       "      <th>LOR</th>\n",
       "      <th>CGPA</th>\n",
       "      <th>Research</th>\n",
       "      <th>Chance _of_Admit</th>\n",
       "    </tr>\n",
       "  </thead>\n",
       "  <tbody>\n",
       "    <tr>\n",
       "      <th>0</th>\n",
       "      <td>337</td>\n",
       "      <td>118</td>\n",
       "      <td>4</td>\n",
       "      <td>4.5</td>\n",
       "      <td>4.5</td>\n",
       "      <td>9.65</td>\n",
       "      <td>1</td>\n",
       "      <td>0.92</td>\n",
       "    </tr>\n",
       "    <tr>\n",
       "      <th>1</th>\n",
       "      <td>324</td>\n",
       "      <td>107</td>\n",
       "      <td>4</td>\n",
       "      <td>4.0</td>\n",
       "      <td>4.5</td>\n",
       "      <td>8.87</td>\n",
       "      <td>1</td>\n",
       "      <td>0.76</td>\n",
       "    </tr>\n",
       "    <tr>\n",
       "      <th>2</th>\n",
       "      <td>316</td>\n",
       "      <td>104</td>\n",
       "      <td>3</td>\n",
       "      <td>3.0</td>\n",
       "      <td>3.5</td>\n",
       "      <td>8.00</td>\n",
       "      <td>1</td>\n",
       "      <td>0.72</td>\n",
       "    </tr>\n",
       "    <tr>\n",
       "      <th>3</th>\n",
       "      <td>322</td>\n",
       "      <td>110</td>\n",
       "      <td>3</td>\n",
       "      <td>3.5</td>\n",
       "      <td>2.5</td>\n",
       "      <td>8.67</td>\n",
       "      <td>1</td>\n",
       "      <td>0.80</td>\n",
       "    </tr>\n",
       "    <tr>\n",
       "      <th>4</th>\n",
       "      <td>314</td>\n",
       "      <td>103</td>\n",
       "      <td>2</td>\n",
       "      <td>2.0</td>\n",
       "      <td>3.0</td>\n",
       "      <td>8.21</td>\n",
       "      <td>0</td>\n",
       "      <td>0.65</td>\n",
       "    </tr>\n",
       "  </tbody>\n",
       "</table>\n",
       "</div>"
      ],
      "text/plain": [
       "   GRE_Score  TOEFL_Score  University_Rating  SOP  LOR   CGPA  Research  \\\n",
       "0        337          118                  4  4.5   4.5  9.65         1   \n",
       "1        324          107                  4  4.0   4.5  8.87         1   \n",
       "2        316          104                  3  3.0   3.5  8.00         1   \n",
       "3        322          110                  3  3.5   2.5  8.67         1   \n",
       "4        314          103                  2  2.0   3.0  8.21         0   \n",
       "\n",
       "   Chance _of_Admit   \n",
       "0               0.92  \n",
       "1               0.76  \n",
       "2               0.72  \n",
       "3               0.80  \n",
       "4               0.65  "
      ]
     },
     "execution_count": 22,
     "metadata": {},
     "output_type": "execute_result"
    }
   ],
   "source": [
    "# Write your answer here (part2)\n",
    "#delete the Serial_No column\n",
    "data2 = data2.drop('Serial_No', axis = 1)\n",
    "data2.head()"
   ]
  },
  {
   "cell_type": "code",
   "execution_count": 41,
   "metadata": {},
   "outputs": [
    {
     "data": {
      "image/png": "[encoded data removed]",
      "text/plain": [
       "<Figure size 432x288 with 1 Axes>"
      ]
     },
     "metadata": {
      "needs_background": "light"
     },
     "output_type": "display_data"
    }
   ],
   "source": [
    "# Write your answer here (part3)\n",
    "filter_1 = (data2['Research'] == 1)\n",
    "filter_0 = (data2['Research'] == 0)\n",
    "#scatter plot between SOP and CGPA\n",
    "plt.scatter(data2['SOP'][filter_1], data2['CGPA'][filter_1], c = 'Blue', label ='Research')\n",
    "plt.scatter(data2['SOP'][filter_0], data2['CGPA'][filter_0], c = 'Red', label ='Non - Research')\n",
    "plt.title(\"Student Research Interest\")\n",
    "plt.xlabel(\"SOP\")\n",
    "plt.ylabel(\"CGPA\")\n",
    "plt.legend()\n",
    "plt.show()"
   ]
  },
  {
   "cell_type": "code",
   "execution_count": 42,
   "metadata": {},
   "outputs": [],
   "source": [
    "from sklearn.linear_model import LinearRegression"
   ]
  },
  {
   "cell_type": "code",
   "execution_count": 43,
   "metadata": {},
   "outputs": [
    {
     "name": "stdout",
     "output_type": "stream",
     "text": [
      "Model Coef [ 0.00215477  0.00248846  0.00616647 -0.00062828  0.01974312  0.11868894\n",
      "  0.02085281]\n",
      "Model Intercept -1.3439827275588012\n"
     ]
    }
   ],
   "source": [
    "# Write your answer here (part4)\n",
    "X = data2.iloc[:,:7]\n",
    "y = data2.iloc[:,7]\n",
    "#define a linearregression model\n",
    "model = LinearRegression(fit_intercept = True)\n",
    "#partition the train and test then fit the train data to the model\n",
    "X_train, X_test, y_train,y_test = train_test_split(X, y, test_size=0.3, random_state=0)\n",
    "model.fit(X_train, y_train)\n",
    "print(\"Model Coef\", model.coef_)\n",
    "print(\"Model Intercept\", model.intercept_)\n",
    "y_test_hat = model.predict(X_test)"
   ]
  },
  {
   "cell_type": "code",
   "execution_count": 44,
   "metadata": {},
   "outputs": [
    {
     "name": "stdout",
     "output_type": "stream",
     "text": [
      "R2 for training set 0.8317861130579625\n",
      "R2 for testing set 0.7910195074277857\n"
     ]
    }
   ],
   "source": [
    "# Write your answer here (part5)\n",
    "# R2 for training set\n",
    "print('R2 for training set',model.score(X_train, y_train))\n",
    "# R2 for testing set\n",
    "print('R2 for testing set',model.score(X_test, y_test))"
   ]
  },
  {
   "cell_type": "markdown",
   "metadata": {},
   "source": [
    "<p>R2 gives the corelation between the independent and dependent variables. R2 for training dataset is <b>83.18%</b> and for testing dataset is <b>79.10%</b>. The corelation is more in training dataset and there is a possibility of getting high corelation in training data as the percentage of data is more compared to the test data. High R2 is preferable as the independent variables give more information about the traget.</p>"
   ]
  },
  {
   "cell_type": "code",
   "execution_count": 46,
   "metadata": {},
   "outputs": [
    {
     "name": "stdout",
     "output_type": "stream",
     "text": [
      "MSE for test data =  0.0038128490869800526\n",
      "MSE for train data =  0.003439771582030502\n"
     ]
    }
   ],
   "source": [
    "# Write your answer here (part6)\n",
    "from sklearn.metrics import mean_absolute_error, mean_squared_error\n",
    "y_train_hat = model.predict(X_train)\n",
    "#calculate the MSE by importing the metrics from sklearn\n",
    "print('MSE for test data = ',mean_squared_error(y_test,y_test_hat))\n",
    "print('MSE for train data = ',mean_squared_error(y_train,y_train_hat))"
   ]
  },
  {
   "cell_type": "markdown",
   "metadata": {},
   "source": [
    "<P>The mean square error tells how close a regression line is to a set of points. The smaller the MSE, the closer you are to finding the line of best fit. The MSE for test data is <b>0.0038</b> and for train data is <b>0.0034</b>. The training data gives the minimum MSE.</P>"
   ]
  },
  {
   "cell_type": "code",
   "execution_count": 47,
   "metadata": {},
   "outputs": [
    {
     "data": {
      "text/plain": [
       "(500, 2)"
      ]
     },
     "execution_count": 47,
     "metadata": {},
     "output_type": "execute_result"
    }
   ],
   "source": [
    "# Write your answer here (part7)\n",
    "from sklearn.decomposition import PCA\n",
    "#Decompose the independent variables to 2 by using Priciple Component Analysis\n",
    "pca_2c = PCA(n_components=2)   \n",
    "projection = pca_2c.fit_transform(X)\n",
    "projection.shape"
   ]
  },
  {
   "cell_type": "code",
   "execution_count": 48,
   "metadata": {},
   "outputs": [
    {
     "name": "stdout",
     "output_type": "stream",
     "text": [
      "Model Coef [-0.00944281 -0.005031  ]\n",
      "Model Intercept 0.7244909418086182\n"
     ]
    }
   ],
   "source": [
    "# Write your answer here (part8)\n",
    "X_train, X_test, y_train,y_test = train_test_split(projection, y, test_size=0.3, random_state=0)\n",
    "#Partition the decomposed data and fit to linear regression model\n",
    "model.fit(X_train, y_train)\n",
    "print(\"Model Coef\", model.coef_)\n",
    "print(\"Model Intercept\", model.intercept_)\n",
    "y_test_hat = model.predict(X_test)"
   ]
  },
  {
   "cell_type": "code",
   "execution_count": 49,
   "metadata": {},
   "outputs": [
    {
     "name": "stdout",
     "output_type": "stream",
     "text": [
      "R2 for train data 0.720218523705407\n",
      "R2 for test data 0.6735395933324764\n",
      "MSE for test data =  0.00595627011964897\n",
      "MSE for train data =  0.005721194538880707\n"
     ]
    }
   ],
   "source": [
    "# Write your answer here (part9)\n",
    "# R2 for training set\n",
    "print('R2 for train data',model.score(X_train, y_train))\n",
    "# R2 for training set\n",
    "print('R2 for test data', model.score(X_test, y_test))\n",
    "y_train_hat = model.predict(X_train)\n",
    "print('MSE for test data = ',mean_squared_error(y_test,y_test_hat))\n",
    "print('MSE for train data = ',mean_squared_error(y_train,y_train_hat))"
   ]
  },
  {
   "cell_type": "markdown",
   "metadata": {},
   "source": [
    "<p><b>Question #3</b>:\n",
    "<ol>\n",
    "    <li>Download the Employee_Retention.csv dataset from the Canvas and use <b>read_csv( )</b> to read it.</li>\n",
    "    <li>Convert <b>Sales</b> and <b>Salary</b> categorical features into dummy variables.\n",
    "        <ul>\n",
    "            <li>If it is necassary, delete the original Sales and Salary columns after the generation dummy variables. </li>\n",
    "        </ul>\n",
    "    </li>\n",
    "    <li>Use mean normalization ($\\frac{X-\\mu}{\\sigma}$) to normalize values in <b>number_project</b>, <b>average_montly_hours</b>, and <b>time_spend_company</b> columns.</li>\n",
    "    <li>Use KNN to create three predictive models (1. with 2 neighbors, 2. with 5 neighbors, 3. with 7 neighbors)\n",
    "    <ul>\n",
    "        <li>Use 70% of data for tarining and consider 30% of data for testing. (Use <b style=\"color:red\">random_state=0</b>)</li>\n",
    "        <li>Use all the features (including dummy variables) to create you predictive model.</li>\n",
    "        <li><b>left</b> is your dependent variable.</li> \n",
    "    </ul>\n",
    "    </li>\n",
    "    <li>Find the accuracy of your models using out-of-sample data (test data). Which model has the highest accuracy? </li>\n",
    "    <li>Use KNN with 3 neighbors to create a new predictive model.\n",
    "    <ul>\n",
    "        <li>Use whole dataset for training.</li>\n",
    "        <li>Use <b>satisfaction_level</b> and <b>last_evaluation</b> features as your independent variables.</li>\n",
    "        <li><b>left</b> is your dependent variable.</li> \n",
    "    </ul>\n",
    "    </li>\n",
    "    <li>Visualize the decision boundary of your model.</li>\n",
    "</ol>\n",
    "\n",
    "</p> "
   ]
  },
  {
   "cell_type": "code",
   "execution_count": 53,
   "metadata": {},
   "outputs": [
    {
     "data": {
      "text/html": [
       "<div>\n",
       "<style scoped>\n",
       "    .dataframe tbody tr th:only-of-type {\n",
       "        vertical-align: middle;\n",
       "    }\n",
       "\n",
       "    .dataframe tbody tr th {\n",
       "        vertical-align: top;\n",
       "    }\n",
       "\n",
       "    .dataframe thead th {\n",
       "        text-align: right;\n",
       "    }\n",
       "</style>\n",
       "<table border=\"1\" class=\"dataframe\">\n",
       "  <thead>\n",
       "    <tr style=\"text-align: right;\">\n",
       "      <th></th>\n",
       "      <th>satisfaction_level</th>\n",
       "      <th>last_evaluation</th>\n",
       "      <th>number_project</th>\n",
       "      <th>average_montly_hours</th>\n",
       "      <th>time_spend_company</th>\n",
       "      <th>Work_accident</th>\n",
       "      <th>promotion_last_5years</th>\n",
       "      <th>sales</th>\n",
       "      <th>salary</th>\n",
       "      <th>left</th>\n",
       "    </tr>\n",
       "  </thead>\n",
       "  <tbody>\n",
       "    <tr>\n",
       "      <th>0</th>\n",
       "      <td>0.38</td>\n",
       "      <td>0.53</td>\n",
       "      <td>2</td>\n",
       "      <td>157</td>\n",
       "      <td>3</td>\n",
       "      <td>0</td>\n",
       "      <td>0</td>\n",
       "      <td>sales</td>\n",
       "      <td>low</td>\n",
       "      <td>1</td>\n",
       "    </tr>\n",
       "    <tr>\n",
       "      <th>1</th>\n",
       "      <td>0.80</td>\n",
       "      <td>0.86</td>\n",
       "      <td>5</td>\n",
       "      <td>262</td>\n",
       "      <td>6</td>\n",
       "      <td>0</td>\n",
       "      <td>0</td>\n",
       "      <td>sales</td>\n",
       "      <td>medium</td>\n",
       "      <td>1</td>\n",
       "    </tr>\n",
       "    <tr>\n",
       "      <th>2</th>\n",
       "      <td>0.11</td>\n",
       "      <td>0.88</td>\n",
       "      <td>7</td>\n",
       "      <td>272</td>\n",
       "      <td>4</td>\n",
       "      <td>0</td>\n",
       "      <td>0</td>\n",
       "      <td>sales</td>\n",
       "      <td>medium</td>\n",
       "      <td>1</td>\n",
       "    </tr>\n",
       "    <tr>\n",
       "      <th>3</th>\n",
       "      <td>0.72</td>\n",
       "      <td>0.87</td>\n",
       "      <td>5</td>\n",
       "      <td>223</td>\n",
       "      <td>5</td>\n",
       "      <td>0</td>\n",
       "      <td>0</td>\n",
       "      <td>sales</td>\n",
       "      <td>low</td>\n",
       "      <td>1</td>\n",
       "    </tr>\n",
       "    <tr>\n",
       "      <th>4</th>\n",
       "      <td>0.37</td>\n",
       "      <td>0.52</td>\n",
       "      <td>2</td>\n",
       "      <td>159</td>\n",
       "      <td>3</td>\n",
       "      <td>0</td>\n",
       "      <td>0</td>\n",
       "      <td>sales</td>\n",
       "      <td>low</td>\n",
       "      <td>1</td>\n",
       "    </tr>\n",
       "  </tbody>\n",
       "</table>\n",
       "</div>"
      ],
      "text/plain": [
       "   satisfaction_level  last_evaluation  number_project  average_montly_hours  \\\n",
       "0                0.38             0.53               2                   157   \n",
       "1                0.80             0.86               5                   262   \n",
       "2                0.11             0.88               7                   272   \n",
       "3                0.72             0.87               5                   223   \n",
       "4                0.37             0.52               2                   159   \n",
       "\n",
       "   time_spend_company  Work_accident  promotion_last_5years  sales  salary  \\\n",
       "0                   3              0                      0  sales     low   \n",
       "1                   6              0                      0  sales  medium   \n",
       "2                   4              0                      0  sales  medium   \n",
       "3                   5              0                      0  sales     low   \n",
       "4                   3              0                      0  sales     low   \n",
       "\n",
       "   left  \n",
       "0     1  \n",
       "1     1  \n",
       "2     1  \n",
       "3     1  \n",
       "4     1  "
      ]
     },
     "execution_count": 53,
     "metadata": {},
     "output_type": "execute_result"
    }
   ],
   "source": [
    "# Write your answer here (part1)\n",
    "data3=pd.read_csv(\"J:/Data Science/Assignment-2/Employee_Retention.csv\")\n",
    "data3.head()"
   ]
  },
  {
   "cell_type": "code",
   "execution_count": 54,
   "metadata": {
    "scrolled": true
   },
   "outputs": [
    {
     "data": {
      "text/html": [
       "<div>\n",
       "<style scoped>\n",
       "    .dataframe tbody tr th:only-of-type {\n",
       "        vertical-align: middle;\n",
       "    }\n",
       "\n",
       "    .dataframe tbody tr th {\n",
       "        vertical-align: top;\n",
       "    }\n",
       "\n",
       "    .dataframe thead th {\n",
       "        text-align: right;\n",
       "    }\n",
       "</style>\n",
       "<table border=\"1\" class=\"dataframe\">\n",
       "  <thead>\n",
       "    <tr style=\"text-align: right;\">\n",
       "      <th></th>\n",
       "      <th>satisfaction_level</th>\n",
       "      <th>last_evaluation</th>\n",
       "      <th>number_project</th>\n",
       "      <th>average_montly_hours</th>\n",
       "      <th>time_spend_company</th>\n",
       "      <th>Work_accident</th>\n",
       "      <th>promotion_last_5years</th>\n",
       "      <th>left</th>\n",
       "      <th>sales_IT</th>\n",
       "      <th>sales_RandD</th>\n",
       "      <th>...</th>\n",
       "      <th>sales_hr</th>\n",
       "      <th>sales_management</th>\n",
       "      <th>sales_marketing</th>\n",
       "      <th>sales_product_mng</th>\n",
       "      <th>sales_sales</th>\n",
       "      <th>sales_support</th>\n",
       "      <th>sales_technical</th>\n",
       "      <th>salary_high</th>\n",
       "      <th>salary_low</th>\n",
       "      <th>salary_medium</th>\n",
       "    </tr>\n",
       "  </thead>\n",
       "  <tbody>\n",
       "    <tr>\n",
       "      <th>0</th>\n",
       "      <td>0.38</td>\n",
       "      <td>0.53</td>\n",
       "      <td>2</td>\n",
       "      <td>157</td>\n",
       "      <td>3</td>\n",
       "      <td>0</td>\n",
       "      <td>0</td>\n",
       "      <td>1</td>\n",
       "      <td>0</td>\n",
       "      <td>0</td>\n",
       "      <td>...</td>\n",
       "      <td>0</td>\n",
       "      <td>0</td>\n",
       "      <td>0</td>\n",
       "      <td>0</td>\n",
       "      <td>1</td>\n",
       "      <td>0</td>\n",
       "      <td>0</td>\n",
       "      <td>0</td>\n",
       "      <td>1</td>\n",
       "      <td>0</td>\n",
       "    </tr>\n",
       "    <tr>\n",
       "      <th>1</th>\n",
       "      <td>0.80</td>\n",
       "      <td>0.86</td>\n",
       "      <td>5</td>\n",
       "      <td>262</td>\n",
       "      <td>6</td>\n",
       "      <td>0</td>\n",
       "      <td>0</td>\n",
       "      <td>1</td>\n",
       "      <td>0</td>\n",
       "      <td>0</td>\n",
       "      <td>...</td>\n",
       "      <td>0</td>\n",
       "      <td>0</td>\n",
       "      <td>0</td>\n",
       "      <td>0</td>\n",
       "      <td>1</td>\n",
       "      <td>0</td>\n",
       "      <td>0</td>\n",
       "      <td>0</td>\n",
       "      <td>0</td>\n",
       "      <td>1</td>\n",
       "    </tr>\n",
       "    <tr>\n",
       "      <th>2</th>\n",
       "      <td>0.11</td>\n",
       "      <td>0.88</td>\n",
       "      <td>7</td>\n",
       "      <td>272</td>\n",
       "      <td>4</td>\n",
       "      <td>0</td>\n",
       "      <td>0</td>\n",
       "      <td>1</td>\n",
       "      <td>0</td>\n",
       "      <td>0</td>\n",
       "      <td>...</td>\n",
       "      <td>0</td>\n",
       "      <td>0</td>\n",
       "      <td>0</td>\n",
       "      <td>0</td>\n",
       "      <td>1</td>\n",
       "      <td>0</td>\n",
       "      <td>0</td>\n",
       "      <td>0</td>\n",
       "      <td>0</td>\n",
       "      <td>1</td>\n",
       "    </tr>\n",
       "    <tr>\n",
       "      <th>3</th>\n",
       "      <td>0.72</td>\n",
       "      <td>0.87</td>\n",
       "      <td>5</td>\n",
       "      <td>223</td>\n",
       "      <td>5</td>\n",
       "      <td>0</td>\n",
       "      <td>0</td>\n",
       "      <td>1</td>\n",
       "      <td>0</td>\n",
       "      <td>0</td>\n",
       "      <td>...</td>\n",
       "      <td>0</td>\n",
       "      <td>0</td>\n",
       "      <td>0</td>\n",
       "      <td>0</td>\n",
       "      <td>1</td>\n",
       "      <td>0</td>\n",
       "      <td>0</td>\n",
       "      <td>0</td>\n",
       "      <td>1</td>\n",
       "      <td>0</td>\n",
       "    </tr>\n",
       "    <tr>\n",
       "      <th>4</th>\n",
       "      <td>0.37</td>\n",
       "      <td>0.52</td>\n",
       "      <td>2</td>\n",
       "      <td>159</td>\n",
       "      <td>3</td>\n",
       "      <td>0</td>\n",
       "      <td>0</td>\n",
       "      <td>1</td>\n",
       "      <td>0</td>\n",
       "      <td>0</td>\n",
       "      <td>...</td>\n",
       "      <td>0</td>\n",
       "      <td>0</td>\n",
       "      <td>0</td>\n",
       "      <td>0</td>\n",
       "      <td>1</td>\n",
       "      <td>0</td>\n",
       "      <td>0</td>\n",
       "      <td>0</td>\n",
       "      <td>1</td>\n",
       "      <td>0</td>\n",
       "    </tr>\n",
       "  </tbody>\n",
       "</table>\n",
       "<p>5 rows × 21 columns</p>\n",
       "</div>"
      ],
      "text/plain": [
       "   satisfaction_level  last_evaluation  number_project  average_montly_hours  \\\n",
       "0                0.38             0.53               2                   157   \n",
       "1                0.80             0.86               5                   262   \n",
       "2                0.11             0.88               7                   272   \n",
       "3                0.72             0.87               5                   223   \n",
       "4                0.37             0.52               2                   159   \n",
       "\n",
       "   time_spend_company  Work_accident  promotion_last_5years  left  sales_IT  \\\n",
       "0                   3              0                      0     1         0   \n",
       "1                   6              0                      0     1         0   \n",
       "2                   4              0                      0     1         0   \n",
       "3                   5              0                      0     1         0   \n",
       "4                   3              0                      0     1         0   \n",
       "\n",
       "   sales_RandD  ...  sales_hr  sales_management  sales_marketing  \\\n",
       "0            0  ...         0                 0                0   \n",
       "1            0  ...         0                 0                0   \n",
       "2            0  ...         0                 0                0   \n",
       "3            0  ...         0                 0                0   \n",
       "4            0  ...         0                 0                0   \n",
       "\n",
       "   sales_product_mng  sales_sales  sales_support  sales_technical  \\\n",
       "0                  0            1              0                0   \n",
       "1                  0            1              0                0   \n",
       "2                  0            1              0                0   \n",
       "3                  0            1              0                0   \n",
       "4                  0            1              0                0   \n",
       "\n",
       "   salary_high  salary_low  salary_medium  \n",
       "0            0           1              0  \n",
       "1            0           0              1  \n",
       "2            0           0              1  \n",
       "3            0           1              0  \n",
       "4            0           1              0  \n",
       "\n",
       "[5 rows x 21 columns]"
      ]
     },
     "execution_count": 54,
     "metadata": {},
     "output_type": "execute_result"
    }
   ],
   "source": [
    "# Write your answer here (part2)\n",
    "#insert dummy variables for the categorical variables\n",
    "data3=pd.get_dummies(data3, columns=['sales','salary'])\n",
    "data3.head()"
   ]
  },
  {
   "cell_type": "code",
   "execution_count": 56,
   "metadata": {},
   "outputs": [],
   "source": [
    "# Write your answer here (part3)\n",
    "#normalize the data using mean normalization\n",
    "import statistics as st\n",
    "def normalize(arg):\n",
    "    mean = st.mean(data3[arg])\n",
    "    std = st.stdev(data3[arg])\n",
    "    new_data = []\n",
    "    for i in range(len(data3[arg])):\n",
    "        new_data.append((data3[arg][i]-mean)/std)\n",
    "    return new_data\n",
    "\n",
    "data3['number_project'] = normalize('number_project')\n",
    "data3['average_montly_hours'] = normalize('average_montly_hours')\n",
    "data3['time_spend_company'] = normalize('time_spend_company')"
   ]
  },
  {
   "cell_type": "code",
   "execution_count": 58,
   "metadata": {},
   "outputs": [],
   "source": [
    "#Assign the independent and dependent variables to X and y to the the operations\n",
    "lis = [x for x in range(0, 21) if x != 7]\n",
    "\n",
    "X = data3.iloc[:,lis]\n",
    "y = data3.iloc[:,7]"
   ]
  },
  {
   "cell_type": "code",
   "execution_count": 59,
   "metadata": {},
   "outputs": [],
   "source": [
    "# Write your answer here (part4)\n",
    "from sklearn.neighbors import KNeighborsClassifier\n",
    "#partition the data to test and train models and fit the data to KNN\n",
    "X_train, X_test, y_train,y_test = train_test_split(X, y, test_size=0.3, random_state=0)\n",
    "#KNN for 2 neighbors\n",
    "model_2 = KNeighborsClassifier(n_neighbors=2)\n",
    "model_2.fit(X_train, y_train)\n",
    "y_test_hat2 = model_2.predict(X_test)\n",
    "#KNN for 5 neighbors\n",
    "model_5 = KNeighborsClassifier(n_neighbors=5)\n",
    "model_5.fit(X_train, y_train)\n",
    "y_test_hat5 = model_5.predict(X_test)\n",
    "#KNN for 7 neighbors\n",
    "model_7 = KNeighborsClassifier(n_neighbors=7)\n",
    "model_7.fit(X_train, y_train)\n",
    "y_test_hat7 = model_7.predict(X_test)"
   ]
  },
  {
   "cell_type": "code",
   "execution_count": 60,
   "metadata": {},
   "outputs": [
    {
     "name": "stdout",
     "output_type": "stream",
     "text": [
      "Accuracy with 2 neighbors 95.39999999999999\n",
      "Accuracy with 5 neighbors 94.22222222222221\n",
      "Accuracy with 7 neighbors 94.17777777777778\n"
     ]
    }
   ],
   "source": [
    "# Write your answer here (part5)\n",
    "#Calculate the accuracy for all the three KNN models\n",
    "print(\"Accuracy with 2 neighbors\", accuracy_score(y_test,y_test_hat2, normalize = True) * 100 )\n",
    "print(\"Accuracy with 5 neighbors\", accuracy_score(y_test,y_test_hat5, normalize = True) * 100 )\n",
    "print(\"Accuracy with 7 neighbors\", accuracy_score(y_test,y_test_hat7, normalize = True) * 100 )"
   ]
  },
  {
   "cell_type": "markdown",
   "metadata": {},
   "source": [
    "<p>The KNN model with 2 neighbors has the high accuracy of <b>95.39%</b>. The accuracy high but there is a probability that the model includes more noise as the K-mean value is very low.</p>"
   ]
  },
  {
   "cell_type": "code",
   "execution_count": 127,
   "metadata": {},
   "outputs": [
    {
     "data": {
      "text/plain": [
       "KNeighborsClassifier(algorithm='auto', leaf_size=30, metric='minkowski',\n",
       "                     metric_params=None, n_jobs=None, n_neighbors=3, p=2,\n",
       "                     weights='uniform')"
      ]
     },
     "execution_count": 127,
     "metadata": {},
     "output_type": "execute_result"
    }
   ],
   "source": [
    "# Write your answer here (part6)\n",
    "#KNN with K-mean equal to 3\n",
    "X_3 = data3.loc[:, ['satisfaction_level', 'last_evaluation']]\n",
    "model_3 = KNeighborsClassifier(n_neighbors=3)\n",
    "model_3.fit(X_3, y)"
   ]
  },
  {
   "cell_type": "code",
   "execution_count": 134,
   "metadata": {},
   "outputs": [
    {
     "data": {
      "image/png": "[encoded data removed]",
      "text/plain": [
       "<Figure size 864x648 with 1 Axes>"
      ]
     },
     "metadata": {
      "needs_background": "light"
     },
     "output_type": "display_data"
    }
   ],
   "source": [
    "from matplotlib.colors import ListedColormap\n",
    "# Write your answer here (part7)\n",
    "h = 0.02\n",
    "cmap_light = ListedColormap(['#FFAAAA', '#AAFFAA','#00AAFF'])\n",
    "cmap_bold = ListedColormap(['#FF0000', '#00FF00','#00AAFF'])\n",
    "\n",
    "x_min, x_max = X_3.iloc[:,0].min()-0.1, X_3.iloc[:,0].max()+0.1\n",
    "y_min, y_max = X_3.iloc[:,1].min()-0.1, X_3.iloc[:,1].max()+0.1\n",
    "xx, yy = np.meshgrid(np.arange(x_min, x_max, h), np.arange(y_min, y_max, h))\n",
    "\n",
    "# predict class using data and kNN classifier\n",
    "Z = model_3.predict(np.c_[xx.ravel(), yy.ravel()])\n",
    "\n",
    "# Put the result into a color plot\n",
    "Z = Z.reshape(xx.shape)\n",
    "plt.figure(figsize=(12,9))\n",
    "plt.pcolormesh(xx, yy, Z, cmap=cmap_light)\n",
    "plt.scatter(X_3.iloc[:,0], X_3.iloc[:,1], c=y, cmap = cmap_bold)\n",
    "plt.xlim(xx.min(), xx.max())\n",
    "plt.ylim(yy.min(), yy.max())\n",
    "plt.title(\"Employee Retention\")\n",
    "plt.xlabel('satisfaction_level')\n",
    "plt.ylabel('last_evaluation')\n",
    "plt.show();"
   ]
  },
  {
   "cell_type": "markdown",
   "metadata": {},
   "source": [
    "<p><b>Output</b>: \n",
    "    <ul>\n",
    "        <li>You need to provide answers in the designated cell for each question (don't delete the existing comments in the cells).</li>\n",
    "        <li>You need to make sure that your final file contains both codes and results (don't clear the outputs).</li>\n",
    "        <li>Save your file in the .ipynb format (as it is right now).</li>\n",
    "        <li>Upload the file into the Canvas (Assignment #2)</li>\n",
    "        <li>All the assignments should be submitted by <b>Monday Oct 14 at 7:00 PM</b>. No late submission will be accepted</li>\n",
    "        <li>I will not accept any submission by email or any other method, so make sure that you submit the file in a right place at the right time.</li>\n",
    "        </ul>\n",
    "        </p> "
   ]
  }
 ],
 "metadata": {
  "kernelspec": {
   "display_name": "Python 3",
   "language": "python",
   "name": "python3"
  },
  "language_info": {
   "codemirror_mode": {
    "name": "ipython",
    "version": 3
   },
   "file_extension": ".py",
   "mimetype": "text/x-python",
   "name": "python",
   "nbconvert_exporter": "python",
   "pygments_lexer": "ipython3",
   "version": "3.7.3"
  }
 },
 "nbformat": 4,
 "nbformat_minor": 2
}
